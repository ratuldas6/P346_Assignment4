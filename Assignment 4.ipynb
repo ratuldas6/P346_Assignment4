{
 "cells": [
  {
   "cell_type": "code",
   "execution_count": 1,
   "source": [
    "import mylibrary"
   ],
   "outputs": [],
   "metadata": {}
  },
  {
   "cell_type": "markdown",
   "source": [
    "Question 1"
   ],
   "metadata": {}
  },
  {
   "cell_type": "code",
   "execution_count": 2,
   "source": [
    "A = []\n",
    "b = []\n",
    "\n",
    "mat_a = open(\"a.txt\", \"r+\")\n",
    "mat_ab = open(\"a_b.txt\", \"r+\")\n",
    "#calling matrix from txt file\n",
    "\n",
    "for line in mat_a:\n",
    "    x = line.split()\n",
    "    y = []\n",
    "    for i in range(len(x)):\n",
    "        y.append(float(x[i]))\n",
    "    A.append(y)\n",
    "\n",
    "for line in mat_ab:\n",
    "    elem = line.split()\n",
    "    for i in range(len(elem)):\n",
    "        b.append(float(elem[i]))\n",
    "\n",
    "crout_result = mylibrary.solveLU(A,b,1)\n",
    "doolittle_result = mylibrary.solveLU(A,b,2)"
   ],
   "outputs": [],
   "metadata": {}
  },
  {
   "cell_type": "code",
   "execution_count": 3,
   "source": [
    "print(\"Result of LU decomposition using Crout's method:\")\n",
    "print(\"x_1 = \" + str(crout_result[0]))\n",
    "print(\"x_2 = \" + str(crout_result[1]))\n",
    "print(\"x_3 = \" + str(crout_result[2]))\n",
    "print(\"x_4 = \" + str(crout_result[3]))"
   ],
   "outputs": [
    {
     "output_type": "stream",
     "name": "stdout",
     "text": [
      "Result of LU decomposition using Crout's method:\n",
      "x_1 = 1.0\n",
      "x_2 = -1.0\n",
      "x_3 = 1.0\n",
      "x_4 = 2.0\n"
     ]
    }
   ],
   "metadata": {}
  },
  {
   "cell_type": "code",
   "execution_count": 4,
   "source": [
    "L_1,U_1 = mylibrary.crout(A)\n",
    "print(\"L matrix generated using Crout's method:\")\n",
    "mylibrary.displayMatrix(L_1)\n",
    "print(\"U matrix generated using Crout's method:\")\n",
    "mylibrary.displayMatrix(U_1)"
   ],
   "outputs": [
    {
     "output_type": "stream",
     "name": "stdout",
     "text": [
      "L matrix generated using Crout's method:\n",
      "[1.0, 0.0, 0.0, 0.0]\n",
      "[0.0, 1.0, 0.0, 0.0]\n",
      "[1.0, 2.0, 2.0, 0.0]\n",
      "[2.0, 1.0, 3.0, -3.0]\n",
      "U matrix generated using Crout's method:\n",
      "[1, 0.0, 1.0, 2.0]\n",
      "[0.0, 1, -2.0, 0.0]\n",
      "[0.0, 0.0, 1, -1.0]\n",
      "[0.0, 0.0, 0.0, 1]\n"
     ]
    }
   ],
   "metadata": {}
  },
  {
   "cell_type": "code",
   "execution_count": 5,
   "source": [
    "print(\"Result of LU decomposition using Doolittle's method:\")\r\n",
    "print(\"x_1 = \" + str(doolittle_result[0]))\r\n",
    "print(\"x_2 = \" + str(doolittle_result[1]))\r\n",
    "print(\"x_3 = \" + str(doolittle_result[2]))\r\n",
    "print(\"x_4 = \" + str(doolittle_result[3]))"
   ],
   "outputs": [
    {
     "output_type": "stream",
     "name": "stdout",
     "text": [
      "Result of LU decomposition using Doolittle's method:\n",
      "x_1 = 1.0\n",
      "x_2 = -1.0\n",
      "x_3 = 1.0\n",
      "x_4 = 2.0\n"
     ]
    }
   ],
   "metadata": {}
  },
  {
   "cell_type": "code",
   "execution_count": 6,
   "source": [
    "L_2,U_2 = mylibrary.doolittle(A)\r\n",
    "print(\"L matrix generated using Doolittle's method:\")\r\n",
    "mylibrary.displayMatrix(L_2)\r\n",
    "print(\"U matrix generated using Doolittle's method:\")\r\n",
    "mylibrary.displayMatrix(U_2)"
   ],
   "outputs": [
    {
     "output_type": "stream",
     "name": "stdout",
     "text": [
      "L matrix generated using Doolittle's method:\n",
      "[1, 0.0, 0.0, 0.0]\n",
      "[0.0, 1, 0.0, 0.0]\n",
      "[1.0, 2.0, 1, 0.0]\n",
      "[2.0, 1.0, 1.5, 1]\n",
      "U matrix generated using Doolittle's method:\n",
      "[1.0, 0.0, 1.0, 2.0]\n",
      "[0.0, 1.0, -2.0, 0.0]\n",
      "[0.0, 0.0, 2.0, -2.0]\n",
      "[0.0, 0.0, 0.0, -3.0]\n"
     ]
    }
   ],
   "metadata": {}
  },
  {
   "cell_type": "markdown",
   "source": [
    "Question 2"
   ],
   "metadata": {}
  },
  {
   "cell_type": "code",
   "execution_count": 7,
   "source": [
    "B = []\r\n",
    "\r\n",
    "mat_b = open(\"b.txt\", \"r+\")\r\n",
    "#calling matrix from txt file\r\n",
    "\r\n",
    "for line in mat_b:\r\n",
    "    x = line.split()\r\n",
    "    y = []\r\n",
    "    for i in range(len(x)):\r\n",
    "        y.append(float(x[i]))\r\n",
    "    B.append(y)\r\n",
    "\r\n",
    "print(\"Inverse of the matrix is: \")\r\n",
    "B_inv = mylibrary.LU_inverse(B)\r\n",
    "mylibrary.displayMatrix(B_inv)"
   ],
   "outputs": [
    {
     "output_type": "stream",
     "name": "stdout",
     "text": [
      "Inverse of the matrix is: \n",
      "[-0.25000000000000006, 1.6666666666666667, -1.8333333333333333, 0.3333333333333333]\n",
      "[0.08333333333333337, -0.6666666666666667, 0.8333333333333333, 0.0]\n",
      "[0.16666666666666666, -0.3333333333333333, -0.3333333333333333, 0.0]\n",
      "[-0.08333333333333333, 0.6666666666666666, 0.16666666666666666, 0.0]\n"
     ]
    }
   ],
   "metadata": {}
  },
  {
   "cell_type": "code",
   "execution_count": 8,
   "source": [
    "#we verify the obtained inverse\r\n",
    "P = mylibrary.productMatrix(B_inv,B)\r\n",
    "mylibrary.displayMatrix(P)"
   ],
   "outputs": [
    {
     "output_type": "stream",
     "name": "stdout",
     "text": [
      "[1.0, 0.009999999999999787, 0.010000000000000009, 0.009999999999999787]\n",
      "[0.0, 1.01, 0.010000000000000009, 0.009999999999999787]\n",
      "[0.0, 0.010000000000000009, 1.01, 0.009999999999999898]\n",
      "[0.0, 0.010000000000000009, 0.010000000000000009, 1.0100000000000002]\n"
     ]
    }
   ],
   "metadata": {}
  },
  {
   "cell_type": "markdown",
   "source": [
    "Question 3"
   ],
   "metadata": {}
  },
  {
   "cell_type": "code",
   "execution_count": 9,
   "source": [
    "C = []\r\n",
    "b = []\r\n",
    "\r\n",
    "mat_c = open(\"c.txt\", \"r+\")\r\n",
    "mat_cb = open(\"c_b.txt\", \"r+\")\r\n",
    "#calling matrices from txt files\r\n",
    "\r\n",
    "for line in mat_c:\r\n",
    "    x = line.split()\r\n",
    "    y = []\r\n",
    "    for i in range(len(x)):\r\n",
    "        y.append(float(x[i]))\r\n",
    "    C.append(y)\r\n",
    "\r\n",
    "for line in mat_cb:\r\n",
    "    elem = line.split()\r\n",
    "    for i in range(len(elem)):\r\n",
    "        b.append(float(elem[i]))\r\n",
    "\r\n",
    "L = mylibrary.choleskydecomp(C)\r\n",
    "L_T = mylibrary.transpose(L)\r\n",
    "cholesky_result = mylibrary.solveCholesky(L, L_T, b)\r\n",
    "\r\n",
    "print(\"Solution using Cholesky decomposition is: \")\r\n",
    "print(\"x_1 = \" + str(cholesky_result[0]))\r\n",
    "print(\"x_2 = \" + str(cholesky_result[1]))\r\n",
    "print(\"x_3 = \" + str(cholesky_result[2]))\r\n",
    "print(\"x_4 = \" + str(cholesky_result[3]))"
   ],
   "outputs": [
    {
     "output_type": "stream",
     "name": "stdout",
     "text": [
      "Solution using Cholesky decomposition is: \n",
      "x_1 = 0.1\n",
      "x_2 = 0.2\n",
      "x_3 = 0.3\n",
      "x_4 = 0.4\n"
     ]
    }
   ],
   "metadata": {}
  }
 ],
 "metadata": {
  "kernelspec": {
   "display_name": "Python 3",
   "language": "python",
   "name": "python3"
  },
  "language_info": {
   "codemirror_mode": {
    "name": "ipython",
    "version": 3
   },
   "file_extension": ".py",
   "mimetype": "text/x-python",
   "name": "python",
   "nbconvert_exporter": "python",
   "pygments_lexer": "ipython3",
   "version": "3.7.10"
  }
 },
 "nbformat": 4,
 "nbformat_minor": 5
}