{
 "cells": [
  {
   "cell_type": "code",
   "execution_count": 1,
   "id": "2a3aaa49",
   "metadata": {},
   "outputs": [],
   "source": [
    "import mylibrary"
   ]
  },
  {
   "cell_type": "markdown",
   "id": "ca57b492",
   "metadata": {},
   "source": [
    "Question 1"
   ]
  },
  {
   "cell_type": "code",
   "execution_count": 2,
   "id": "95ea8744",
   "metadata": {},
   "outputs": [],
   "source": [
    "A = []\n",
    "b = []\n",
    "\n",
    "mat_a = open(\"a.txt\", \"r+\")\n",
    "mat_ab = open(\"a_b.txt\", \"r+\")\n",
    "#calling matrix from txt file\n",
    "\n",
    "for line in mat_a:\n",
    "    x = line.split()\n",
    "    y = []\n",
    "    for i in range(len(x)):\n",
    "        y.append(float(x[i]))\n",
    "    A.append(y)\n",
    "\n",
    "for line in mat_ab:\n",
    "    elem = line.split()\n",
    "    for i in range(len(elem)):\n",
    "        b.append(float(elem[i]))\n",
    "\n",
    "crout_result = mylibrary.solveLU(A,b,1)\n",
    "doolittle_result = mylibrary.solveLU(A,b,2)"
   ]
  },
  {
   "cell_type": "code",
   "execution_count": 3,
   "id": "6ca92bef",
   "metadata": {},
   "outputs": [
    {
     "name": "stdout",
     "output_type": "stream",
     "text": [
      "Result of LU decomposition using Crout's method:\n",
      "x_1 = 1.0\n",
      "x_2 = -1.0\n",
      "x_3 = 1.0\n",
      "x_4 = 2.0\n"
     ]
    }
   ],
   "source": [
    "print(\"Result of LU decomposition using Crout's method:\")\n",
    "print(\"x_1 = \" + str(crout_result[0]))\n",
    "print(\"x_2 = \" + str(crout_result[1]))\n",
    "print(\"x_3 = \" + str(crout_result[2]))\n",
    "print(\"x_4 = \" + str(crout_result[3]))"
   ]
  },
  {
   "cell_type": "code",
   "execution_count": 4,
   "id": "d1dae7a2",
   "metadata": {},
   "outputs": [
    {
     "name": "stdout",
     "output_type": "stream",
     "text": [
      "L matrix generated using Crout's method:\n",
      "[1.0, 0.0, 0.0, 0.0]\n",
      "[0.0, 1.0, 0.0, 0.0]\n",
      "[1.0, 2.0, 2.0, 0.0]\n",
      "[2.0, 1.0, 3.0, -3.0]\n",
      "U matrix generated using Crout's method:\n",
      "[1, 0.0, 1.0, 2.0]\n",
      "[0.0, 1, -2.0, 0.0]\n",
      "[0.0, 0.0, 1, -1.0]\n",
      "[0.0, 0.0, 0.0, 1]\n"
     ]
    }
   ],
   "source": [
    "L_1,U_1 = mylibrary.crout(A)\n",
    "print(\"L matrix generated using Crout's method:\")\n",
    "mylibrary.displayMatrix(L_1)\n",
    "print(\"U matrix generated using Crout's method:\")\n",
    "mylibrary.displayMatrix(U_1)"
   ]
  },
  {
   "cell_type": "code",
   "execution_count": 5,
   "id": "b1ee5690",
   "metadata": {},
   "outputs": [
    {
     "name": "stdout",
     "output_type": "stream",
     "text": [
      "Result of LU decomposition using Doolittle's method:\n",
      "x_1 = 1.0\n",
      "x_2 = -1.0\n",
      "x_3 = 1.0\n",
      "x_4 = 2.0\n"
     ]
    }
   ],
   "source": [
    "print(\"Result of LU decomposition using Doolittle's method:\")\n",
    "print(\"x_1 = \" + str(doolittle_result[0]))\n",
    "print(\"x_2 = \" + str(doolittle_result[1]))\n",
    "print(\"x_3 = \" + str(doolittle_result[2]))\n",
    "print(\"x_4 = \" + str(doolittle_result[3]))"
   ]
  },
  {
   "cell_type": "code",
   "execution_count": 6,
   "id": "f65e2008",
   "metadata": {},
   "outputs": [
    {
     "name": "stdout",
     "output_type": "stream",
     "text": [
      "L matrix generated using Doolittle's method:\n",
      "[1, 0.0, 0.0, 0.0]\n",
      "[0.0, 1, 0.0, 0.0]\n",
      "[1.0, 2.0, 1, 0.0]\n",
      "[2.0, 1.0, 1.5, 1]\n",
      "U matrix generated using Doolittle's method:\n",
      "[1.0, 0.0, 1.0, 2.0]\n",
      "[0.0, 1.0, -2.0, 0.0]\n",
      "[0.0, 0.0, 2.0, -2.0]\n",
      "[0.0, 0.0, 0.0, -3.0]\n"
     ]
    }
   ],
   "source": [
    "L_2,U_2 = mylibrary.doolittle(A)\n",
    "print(\"L matrix generated using Doolittle's method:\")\n",
    "mylibrary.displayMatrix(L_2)\n",
    "print(\"U matrix generated using Doolittle's method:\")\n",
    "mylibrary.displayMatrix(U_2)"
   ]
  },
  {
   "cell_type": "markdown",
   "id": "d19dcf2e",
   "metadata": {},
   "source": [
    "Question 2"
   ]
  },
  {
   "cell_type": "code",
   "execution_count": 7,
   "id": "5c8861d9",
   "metadata": {},
   "outputs": [
    {
     "name": "stdout",
     "output_type": "stream",
     "text": [
      "Inverse of the matrix is: \n",
      "[-0.25000000000000006, 1.6666666666666667, -1.8333333333333333, 0.3333333333333333]\n",
      "[0.08333333333333337, -0.6666666666666667, 0.8333333333333333, 0.0]\n",
      "[0.16666666666666666, -0.3333333333333333, -0.3333333333333333, 0.0]\n",
      "[-0.08333333333333333, 0.6666666666666666, 0.16666666666666666, 0.0]\n"
     ]
    }
   ],
   "source": [
    "B = []\n",
    "\n",
    "mat_b = open(\"b.txt\", \"r+\")\n",
    "#calling matrix from txt file\n",
    "\n",
    "for line in mat_b:\n",
    "    x = line.split()\n",
    "    y = []\n",
    "    for i in range(len(x)):\n",
    "        y.append(float(x[i]))\n",
    "    B.append(y)\n",
    "\n",
    "print(\"Inverse of the matrix is: \")\n",
    "B_inv = mylibrary.LU_inverse(B)\n",
    "mylibrary.displayMatrix(B_inv)"
   ]
  },
  {
   "cell_type": "code",
   "execution_count": 8,
   "id": "a943c256",
   "metadata": {},
   "outputs": [
    {
     "name": "stdout",
     "output_type": "stream",
     "text": [
      "[1.0, 0.009999999999999787, 0.010000000000000009, 0.009999999999999787]\n",
      "[0.0, 1.01, 0.010000000000000009, 0.009999999999999787]\n",
      "[0.0, 0.010000000000000009, 1.01, 0.009999999999999898]\n",
      "[0.0, 0.010000000000000009, 0.010000000000000009, 1.0100000000000002]\n"
     ]
    }
   ],
   "source": [
    "#we verify the obtained inverse\n",
    "P = mylibrary.productMatrix(B_inv,B)\n",
    "mylibrary.displayMatrix(P)"
   ]
  },
  {
   "cell_type": "markdown",
   "id": "8a2577e7",
   "metadata": {},
   "source": [
    "Question 3"
   ]
  },
  {
   "cell_type": "code",
   "execution_count": 9,
   "id": "374d8df6",
   "metadata": {},
   "outputs": [
    {
     "name": "stdout",
     "output_type": "stream",
     "text": [
      "Solution using Cholesky decomposition is: \n",
      "x_1 = 0.1\n",
      "x_2 = 0.2\n",
      "x_3 = 0.3\n",
      "x_4 = 0.4\n"
     ]
    }
   ],
   "source": [
    "C = []\n",
    "b = []\n",
    "\n",
    "mat_c = open(\"c.txt\", \"r+\")\n",
    "mat_cb = open(\"c_b.txt\", \"r+\")\n",
    "#calling matrices from txt files\n",
    "\n",
    "for line in mat_c:\n",
    "    x = line.split()\n",
    "    y = []\n",
    "    for i in range(len(x)):\n",
    "        y.append(float(x[i]))\n",
    "    C.append(y)\n",
    "\n",
    "for line in mat_cb:\n",
    "    elem = line.split()\n",
    "    for i in range(len(elem)):\n",
    "        b.append(float(elem[i]))\n",
    "\n",
    "L = mylibrary.choleskydecomp(C)\n",
    "L_T = mylibrary.transpose(L)\n",
    "cholesky_result = mylibrary.solveCholesky(L, L_T, b)\n",
    "\n",
    "print(\"Solution using Cholesky decomposition is: \")\n",
    "print(\"x_1 = \" + str(cholesky_result[0]))\n",
    "print(\"x_2 = \" + str(cholesky_result[1]))\n",
    "print(\"x_3 = \" + str(cholesky_result[2]))\n",
    "print(\"x_4 = \" + str(cholesky_result[3]))"
   ]
  }
 ],
 "metadata": {
  "kernelspec": {
   "display_name": "Python 3",
   "language": "python",
   "name": "python3"
  },
  "language_info": {
   "codemirror_mode": {
    "name": "ipython",
    "version": 3
   },
   "file_extension": ".py",
   "mimetype": "text/x-python",
   "name": "python",
   "nbconvert_exporter": "python",
   "pygments_lexer": "ipython3",
   "version": "3.7.10"
  }
 },
 "nbformat": 4,
 "nbformat_minor": 5
}
